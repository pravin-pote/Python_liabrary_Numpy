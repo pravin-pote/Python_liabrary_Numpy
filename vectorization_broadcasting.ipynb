{
 "cells": [
  {
   "cell_type": "code",
   "execution_count": 1,
   "id": "996ffd33-5c95-4aca-a41b-16efedda28b4",
   "metadata": {},
   "outputs": [],
   "source": [
    "# vectorization , broadcasting, clicing, cpoy, filering\n",
    "import numpy as np"
   ]
  },
  {
   "cell_type": "code",
   "execution_count": 2,
   "id": "5c3f90d8-cb97-48d4-89eb-8c600e81362e",
   "metadata": {},
   "outputs": [
    {
     "name": "stdout",
     "output_type": "stream",
     "text": [
      "[55 68 72 49 83 91 37 65 78 59 88]\n"
     ]
    }
   ],
   "source": [
    "# marks of 11 student (roll number 0-10)\n",
    "marks = np.array([55,68,72,49,83,91,37,65,78,59,88])\n",
    "print(marks)"
   ]
  },
  {
   "cell_type": "code",
   "execution_count": 3,
   "id": "b49c2130-d89e-4c02-861c-26475e39cff1",
   "metadata": {},
   "outputs": [
    {
     "name": "stdout",
     "output_type": "stream",
     "text": [
      "78\n",
      "[68 72 49 83]\n",
      "[55 68 72 49 83]\n"
     ]
    }
   ],
   "source": [
    "#indexing and Slicing\n",
    "print(marks[8])\n",
    "print(marks[1:5])\n",
    "print(marks[0:5])\n",
    "\n"
   ]
  },
  {
   "cell_type": "code",
   "execution_count": 4,
   "id": "ab3c428e-101c-422d-a1df-3479c47f48ae",
   "metadata": {},
   "outputs": [
    {
     "name": "stdout",
     "output_type": "stream",
     "text": [
      "[75 75 75 49 83 91 37 65 78 59 88]\n"
     ]
    }
   ],
   "source": [
    "# Broadcasting (update multiple values)\n",
    "marks[0:3] = 75\n",
    "print(marks)"
   ]
  },
  {
   "cell_type": "code",
   "execution_count": 5,
   "id": "5ca4afe3-d43d-4338-8ea5-a486e6413cc2",
   "metadata": {},
   "outputs": [
    {
     "name": "stdout",
     "output_type": "stream",
     "text": [
      "[80 80 80 54 88 96 42 70 83 64 93]\n"
     ]
    }
   ],
   "source": [
    "# Vectorization\n",
    "result = marks + 5\n",
    "print(result)"
   ]
  },
  {
   "cell_type": "code",
   "execution_count": 6,
   "id": "fb527810-e599-40a8-be60-ded4da37f25d",
   "metadata": {},
   "outputs": [
    {
     "name": "stdout",
     "output_type": "stream",
     "text": [
      "[75 75 75 49 83 91 37 65 78 59 88]\n"
     ]
    }
   ],
   "source": [
    "# Reset Array\n",
    "marks - np.array([55, 68, 72, 49, 83, 91, 37, 65, 78, 59, 88])\n",
    "print(marks)"
   ]
  },
  {
   "cell_type": "code",
   "execution_count": 7,
   "id": "d47bb9f0-204c-4d33-8f21-d920854b6903",
   "metadata": {},
   "outputs": [
    {
     "name": "stdout",
     "output_type": "stream",
     "text": [
      "[75 75 75 49 83]\n"
     ]
    }
   ],
   "source": [
    "# Slices and Copy\n",
    "top_batch = marks[0:5]\n",
    "print(top_batch)\n",
    "# printing the values formt he shallow batch"
   ]
  },
  {
   "cell_type": "code",
   "execution_count": 8,
   "id": "fb5d3608-698e-408f-88b4-986d0719eec3",
   "metadata": {},
   "outputs": [
    {
     "name": "stdout",
     "output_type": "stream",
     "text": [
      "[99 99 99 99 99]\n",
      "[99 99 99 99 99 91 37 65 78 59 88]\n"
     ]
    }
   ],
   "source": [
    "# Modifying slice (affect oringnal)\n",
    "top_batch[:] = 99\n",
    "print(top_batch)\n",
    "print(marks)"
   ]
  },
  {
   "cell_type": "code",
   "execution_count": 9,
   "id": "53d2434c-4ac0-44ac-bcfd-682654cacecd",
   "metadata": {},
   "outputs": [
    {
     "name": "stdout",
     "output_type": "stream",
     "text": [
      "[55 68 72 99 83 91 37 65 78 59 88]\n",
      "[55 68 72 49 83 91 37 65 78 59 88]\n"
     ]
    }
   ],
   "source": [
    "# To avoid this, use cpoy()\n",
    "marks = np.array([55, 68,72, 49, 83, 91,37, 65, 78, 59, 88])\n",
    "marks_copy = marks.copy()\n",
    "marks_copy[3] = 99 # it modifie the array but onlyt the deep copy not the main(shallow)\n",
    "print(marks_copy)\n",
    "print(marks)"
   ]
  },
  {
   "cell_type": "code",
   "execution_count": 11,
   "id": "0c00c328-7d3d-483d-931c-8f93273cd0da",
   "metadata": {},
   "outputs": [
    {
     "name": "stdout",
     "output_type": "stream",
     "text": [
      "[69 26 78 91 54 34]\n"
     ]
    }
   ],
   "source": [
    "# Conditional Selection\n",
    "marks = np.array([69, 26, 78, 91, 54, 34])\n",
    "print(marks)"
   ]
  },
  {
   "cell_type": "code",
   "execution_count": 13,
   "id": "3a7b87e6-08cc-41f3-9f0a-f5f39e370965",
   "metadata": {},
   "outputs": [
    {
     "name": "stdout",
     "output_type": "stream",
     "text": [
      "[ True False  True  True  True False]\n",
      "[69 78 91 54]\n"
     ]
    }
   ],
   "source": [
    "passed = marks >= 35\n",
    "print(passed) # printfalse/true for each student marks records\n",
    "#[true, false, true, true, true, false]\n",
    "print(marks[passed]) # print marsk of the studnent who have pased\n",
    "# [69: True, 25:false, 78: true, 91: true, 54: true, 34: fsalse]\n",
    "#[69,78,91,54]"
   ]
  },
  {
   "cell_type": "code",
   "execution_count": 14,
   "id": "bcf75a08-8718-4fad-ac55-fac72889c66d",
   "metadata": {},
   "outputs": [
    {
     "name": "stdout",
     "output_type": "stream",
     "text": [
      "[69 78 91 54]\n"
     ]
    }
   ],
   "source": [
    "# Or directly:\n",
    "print(marks[marks > 35])"
   ]
  },
  {
   "cell_type": "code",
   "execution_count": null,
   "id": "fbff082c-a5f9-4ff7-a8b3-ff0d6f4af4d5",
   "metadata": {},
   "outputs": [],
   "source": []
  }
 ],
 "metadata": {
  "kernelspec": {
   "display_name": "Python 3 (ipykernel)",
   "language": "python",
   "name": "python3"
  },
  "language_info": {
   "codemirror_mode": {
    "name": "ipython",
    "version": 3
   },
   "file_extension": ".py",
   "mimetype": "text/x-python",
   "name": "python",
   "nbconvert_exporter": "python",
   "pygments_lexer": "ipython3",
   "version": "3.12.7"
  }
 },
 "nbformat": 4,
 "nbformat_minor": 5
}
