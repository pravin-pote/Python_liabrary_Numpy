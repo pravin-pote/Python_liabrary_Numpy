{
 "cells": [
  {
   "cell_type": "code",
   "execution_count": 3,
   "id": "0b1df089-3d90-44ad-94d5-fa10a8dcc52b",
   "metadata": {},
   "outputs": [
    {
     "data": {
      "application/javascript": [
       "IPython.notebook.set_autosave_interval(10000)"
      ]
     },
     "metadata": {},
     "output_type": "display_data"
    },
    {
     "name": "stdout",
     "output_type": "stream",
     "text": [
      "Autosaving every 10 seconds\n"
     ]
    }
   ],
   "source": [
    "%autosave 10"
   ]
  },
  {
   "cell_type": "code",
   "execution_count": 11,
   "id": "3867797f-d386-4786-b604-3739e032eca2",
   "metadata": {},
   "outputs": [],
   "source": [
    "import numpy as np\n",
    "# ithis we took input from the users a of the names and the arks of the tudent s and then gice them the oytpit in the form of \n",
    "# first find the max marsk then t=find the name sof the student by the index"
   ]
  },
  {
   "cell_type": "code",
   "execution_count": 12,
   "id": "bf177c10-016d-4128-8bf6-b18051811f97",
   "metadata": {},
   "outputs": [],
   "source": [
    "names = np.empty(5, dtype = object)\n",
    "marks = np.empty(5, dtype = float)"
   ]
  },
  {
   "cell_type": "code",
   "execution_count": 13,
   "id": "78c1e3a1-97fd-4315-afa4-319872efac5d",
   "metadata": {},
   "outputs": [
    {
     "name": "stdin",
     "output_type": "stream",
     "text": [
      "Enter name of the student1:  p\n",
      "Enter marks for p:  88\n",
      "Enter name of the student2:  o\n",
      "Enter marks for o:  99\n",
      "Enter name of the student3:  i\n",
      "Enter marks for i:  56\n",
      "Enter name of the student4:  u\n",
      "Enter marks for u:  34\n",
      "Enter name of the student5:  m\n",
      "Enter marks for m:  67\n"
     ]
    }
   ],
   "source": [
    "for i in range(5):\n",
    "    names[i] = input(f\"Enter name of the student{i+1}: \")\n",
    "    marks[i] = float(input(f\"Enter marks for {names[i]}: \"))\n"
   ]
  },
  {
   "cell_type": "code",
   "execution_count": 14,
   "id": "2818a943-0ad7-4f49-a7f8-e7d62bf78c47",
   "metadata": {},
   "outputs": [
    {
     "name": "stdout",
     "output_type": "stream",
     "text": [
      "['p' 'o' 'i' 'u' 'm']\n",
      "[88. 99. 56. 34. 67.]\n"
     ]
    }
   ],
   "source": [
    "print(names)\n",
    "print(marks)"
   ]
  },
  {
   "cell_type": "code",
   "execution_count": 15,
   "id": "5933f1a3-414a-4aa0-87e9-a682637677fa",
   "metadata": {},
   "outputs": [],
   "source": [
    "# numpy.max() Returns the max value ina numpy array\n",
    "max_marks = np.max(marks)"
   ]
  },
  {
   "cell_type": "code",
   "execution_count": 16,
   "id": "b8c22730-c22f-4303-9fcb-bb372275c74c",
   "metadata": {},
   "outputs": [],
   "source": [
    "student_index = np.argmax(marks)\n",
    "top_student = names[student_index]"
   ]
  },
  {
   "cell_type": "code",
   "execution_count": 17,
   "id": "2c463a4f-829b-4d71-982b-2b73d9ffa9ce",
   "metadata": {},
   "outputs": [
    {
     "name": "stdout",
     "output_type": "stream",
     "text": [
      "\n",
      " Highest marks: \n",
      "o scored 99.0\n"
     ]
    }
   ],
   "source": [
    "print(\"\\n Highest marks: \")\n",
    "print(f\"{top_student} scored {max_marks}\")"
   ]
  },
  {
   "cell_type": "code",
   "execution_count": null,
   "id": "36f60826-3643-4777-939d-b29dfce3f8f4",
   "metadata": {},
   "outputs": [],
   "source": []
  },
  {
   "cell_type": "code",
   "execution_count": null,
   "id": "fd98ad70-5e2d-4656-bf9a-f5baaa700041",
   "metadata": {},
   "outputs": [],
   "source": []
  },
  {
   "cell_type": "code",
   "execution_count": null,
   "id": "d620c583-3d09-404c-a9ff-89fdfcd32fd7",
   "metadata": {},
   "outputs": [],
   "source": []
  }
 ],
 "metadata": {
  "kernelspec": {
   "display_name": "Python 3 (ipykernel)",
   "language": "python",
   "name": "python3"
  },
  "language_info": {
   "codemirror_mode": {
    "name": "ipython",
    "version": 3
   },
   "file_extension": ".py",
   "mimetype": "text/x-python",
   "name": "python",
   "nbconvert_exporter": "python",
   "pygments_lexer": "ipython3",
   "version": "3.12.7"
  }
 },
 "nbformat": 4,
 "nbformat_minor": 5
}
