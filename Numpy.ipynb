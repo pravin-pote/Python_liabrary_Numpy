{
 "cells": [
  {
   "cell_type": "markdown",
   "id": "3313077f-693f-4972-a195-e7570a53d738",
   "metadata": {},
   "source": [
    "import numpy as np"
   ]
  },
  {
   "cell_type": "code",
   "execution_count": 1,
   "id": "b1a9ab1d-0209-4182-81a8-a1737f3ff2b4",
   "metadata": {},
   "outputs": [],
   "source": [
    "import numpy as np\n"
   ]
  },
  {
   "cell_type": "code",
   "execution_count": 2,
   "id": "48e9ebd6-8f74-41b5-b61a-5edfd79e9414",
   "metadata": {},
   "outputs": [
    {
     "name": "stdout",
     "output_type": "stream",
     "text": [
      "[ 72  45  88 101]\n"
     ]
    }
   ],
   "source": [
    "# 1D array - runs scored by one player in 4 mathces\n",
    "virat_runs = np.array([72, 45, 88, 101])\n",
    "print(virat_runs)"
   ]
  },
  {
   "cell_type": "code",
   "execution_count": 3,
   "id": "7c842cff-5d44-4097-aead-4a4166a5aeb4",
   "metadata": {},
   "outputs": [
    {
     "name": "stdout",
     "output_type": "stream",
     "text": [
      "[[72 45 88]\n",
      " [55 60 47]\n",
      " [30 75 50]]\n"
     ]
    }
   ],
   "source": [
    "# 2D array - Rus by 3 playesrs across 3 matches\n",
    "team_runs = np.array([\n",
    "    [72, 45, 88],\n",
    "    [55, 60, 47],\n",
    "    [30, 75, 50]\n",
    "])\n",
    "print(team_runs)"
   ]
  },
  {
   "cell_type": "code",
   "execution_count": 4,
   "id": "d6bf4d61-b42a-4c05-b571-938e1ef2a076",
   "metadata": {},
   "outputs": [
    {
     "name": "stdout",
     "output_type": "stream",
     "text": [
      "[35 37 31]\n"
     ]
    }
   ],
   "source": [
    "# 1 D ary from a single tuple - payaer ages\n",
    "player_ages = np.array((35, 37, 31))\n",
    "print(player_ages)"
   ]
  },
  {
   "cell_type": "code",
   "execution_count": 5,
   "id": "6a378e7d-57ff-4d7c-99c7-609a0f0a14df",
   "metadata": {},
   "outputs": [
    {
     "data": {
      "application/javascript": [
       "IPython.notebook.set_autosave_interval(10000)"
      ]
     },
     "metadata": {},
     "output_type": "display_data"
    },
    {
     "name": "stdout",
     "output_type": "stream",
     "text": [
      "Autosaving every 10 seconds\n"
     ]
    }
   ],
   "source": [
    "%autosave 10\n"
   ]
  },
  {
   "cell_type": "code",
   "execution_count": 8,
   "id": "800e9571-3df9-4b45-8ad3-d373262dcb3d",
   "metadata": {},
   "outputs": [
    {
     "name": "stdout",
     "output_type": "stream",
     "text": [
      "[[0. 0. 0.]\n",
      " [0. 0. 0.]]\n",
      "[[1. 1.]\n",
      " [1. 1.]\n",
      " [1. 1.]]\n"
     ]
    }
   ],
   "source": [
    "# Specia arrays\n",
    "zeros = np.zeros((2, 3))\n",
    "ones = np.ones((3, 2))\n",
    "identity = np.eye(3)\n",
    "print(zeros)\n",
    "print(ones)"
   ]
  },
  {
   "cell_type": "code",
   "execution_count": 10,
   "id": "f9179c81-f6ed-48f4-bb87-1c44dda0fe1c",
   "metadata": {},
   "outputs": [
    {
     "name": "stdout",
     "output_type": "stream",
     "text": [
      "[[2.12199579e-314 6.95314361e-310]\n",
      " [7.37145944e-321 9.90972035e-312]]\n",
      "[[7 7]\n",
      " [7 7]]\n"
     ]
    },
    {
     "ename": "NameError",
     "evalue": "name 'indetity' is not defined",
     "output_type": "error",
     "traceback": [
      "\u001b[1;31m---------------------------------------------------------------------------\u001b[0m",
      "\u001b[1;31mNameError\u001b[0m                                 Traceback (most recent call last)",
      "Cell \u001b[1;32mIn[10], line 5\u001b[0m\n\u001b[0;32m      3\u001b[0m \u001b[38;5;28mprint\u001b[39m(empty)\n\u001b[0;32m      4\u001b[0m \u001b[38;5;28mprint\u001b[39m(full)\n\u001b[1;32m----> 5\u001b[0m \u001b[38;5;28mprint\u001b[39m(indetity)\n",
      "\u001b[1;31mNameError\u001b[0m: name 'indetity' is not defined"
     ]
    }
   ],
   "source": [
    "empty = np.empty((2, 2))\n",
    "full = np.full((2, 2),7)\n",
    "print(empty)\n",
    "print(full)\n",
    "print(indetity) # we have not initalises this values so thats ehy it shoes the error "
   ]
  },
  {
   "cell_type": "code",
   "execution_count": 11,
   "id": "df6151a8-9935-4fa4-b22e-0bf76515dc93",
   "metadata": {},
   "outputs": [
    {
     "name": "stdout",
     "output_type": "stream",
     "text": [
      "[55 56 57 58 59 60 61 62 63 64] 55 60 64\n",
      "99\n"
     ]
    }
   ],
   "source": [
    "# Creating arrays with range\n",
    "arr = np.arange(55, 65)\n",
    "#what we give gap bet two consective elemnets \n",
    "# what numply calculates nuber of elements\n",
    "\n",
    "print(arr, arr[0], arr[5], arr[9])\n",
    "arr[4] = 99\n",
    "print(arr[4])"
   ]
  },
  {
   "cell_type": "code",
   "execution_count": 15,
   "id": "728adc68-2151-42ec-b6a2-f8bda1ca331a",
   "metadata": {},
   "outputs": [
    {
     "name": "stdout",
     "output_type": "stream",
     "text": [
      "[30. 35. 40. 45. 50.]\n"
     ]
    }
   ],
   "source": [
    "# Baatting avarages (evenly sapced values)\n",
    "batting_avgs = np.linspace(30, 50, 5)\n",
    "print(batting_avgs)\n",
    "# in linspace we ask numpy for a any kind of difference betwwn the values in\n",
    "# from given range provide any 5 or x values with same rm wahteven formula just give 5 values \n",
    "#from the given range\n",
    "\n",
    "# start at 55\n",
    "# start at 65\n",
    "#linspace = have a total of 3 lelements at an equal distance from each other"
   ]
  },
  {
   "cell_type": "code",
   "execution_count": 18,
   "id": "5eef3fac-21fd-4c64-a8ec-605166785a03",
   "metadata": {},
   "outputs": [
    {
     "name": "stdout",
     "output_type": "stream",
     "text": [
      "[166.14754306 171.48463537 162.2914033  188.84158464 190.37723226\n",
      " 174.40486468 188.72938852 166.01495528 138.74769104 129.26101262]\n"
     ]
    }
   ],
   "source": [
    "# Random numbers\n",
    "#Uniform the range we gave to it \n",
    "# THEY SHOULD BE UNIFIORMLEY DISTRUBUTED \n",
    "\n",
    "Strike_rates = np.random.uniform(100, 200, 10,)\n",
    "print(Strike_rates)"
   ]
  },
  {
   "cell_type": "code",
   "execution_count": 19,
   "id": "df474c80-7362-41b3-b7b1-d81a08830bde",
   "metadata": {},
   "outputs": [
    {
     "name": "stdout",
     "output_type": "stream",
     "text": [
      "[[ 85  26 102]\n",
      " [ 27  85  96]]\n"
     ]
    }
   ],
   "source": [
    "runs = np.random.randint(1, 151,(2, 3))\n",
    "print(runs)\n",
    "# give the random numbers from the 1 to 151 with the output of 2 D array\n",
    "# (2= rows, 3= columns)\n"
   ]
  },
  {
   "cell_type": "code",
   "execution_count": 21,
   "id": "3a4f913c-a2e1-4e7b-ad68-781e72209473",
   "metadata": {},
   "outputs": [
    {
     "name": "stdout",
     "output_type": "stream",
     "text": [
      "[0 1 2 3 4 5 6 7 8 9]\n",
      "[ 0  1  2  3  4  5  6  7  8  9 89]\n",
      "[ 0  1  2  3  4  5  6  7  8  9 77 88 99]\n"
     ]
    }
   ],
   "source": [
    "# Addition new values to an existing array\n",
    "arr = np.arange(0, 10)\n",
    "new_arr_single = np.append(arr, 89)\n",
    "new_arr_multiple = np.append(arr, [77, 88, 99])\n",
    "print(arr)\n",
    "print(new_arr_single)\n",
    "print(new_arr_multiple)\n",
    "# we cannot do any changels in the mian array we can add new values in\n",
    "# the array oly if we crerate a new array and then add(append) the new values with it\n"
   ]
  },
  {
   "cell_type": "code",
   "execution_count": 22,
   "id": "fa8b3a6a-41ed-4516-9315-9e8d9dc55260",
   "metadata": {},
   "outputs": [
    {
     "name": "stdout",
     "output_type": "stream",
     "text": [
      "[50 51 52 53 54 55 56 57 58 59 60 61]\n"
     ]
    }
   ],
   "source": [
    "# Reshaping\n",
    "marks = np.arange(50, 62)\n",
    "print(marks)"
   ]
  },
  {
   "cell_type": "code",
   "execution_count": 23,
   "id": "03aad0c6-feec-4e1e-a37e-4665f267e23a",
   "metadata": {},
   "outputs": [
    {
     "name": "stdout",
     "output_type": "stream",
     "text": [
      "[[50 51 52 53]\n",
      " [54 55 56 57]\n",
      " [58 59 60 61]]\n"
     ]
    }
   ],
   "source": [
    "reshaped = marks.reshape(3,4)\n",
    "print(reshaped)"
   ]
  },
  {
   "cell_type": "markdown",
   "id": "32a41510-df9c-4f41-bc9b-020257b3b9bf",
   "metadata": {},
   "source": []
  }
 ],
 "metadata": {
  "kernelspec": {
   "display_name": "Python 3 (ipykernel)",
   "language": "python",
   "name": "python3"
  },
  "language_info": {
   "codemirror_mode": {
    "name": "ipython",
    "version": 3
   },
   "file_extension": ".py",
   "mimetype": "text/x-python",
   "name": "python",
   "nbconvert_exporter": "python",
   "pygments_lexer": "ipython3",
   "version": "3.12.7"
  }
 },
 "nbformat": 4,
 "nbformat_minor": 5
}
