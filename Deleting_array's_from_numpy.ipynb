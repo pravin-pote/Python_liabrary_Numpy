{
 "cells": [
  {
   "cell_type": "code",
   "execution_count": 1,
   "id": "0dd1037d-ec78-4128-82e6-64cca453f749",
   "metadata": {},
   "outputs": [
    {
     "data": {
      "application/javascript": [
       "IPython.notebook.set_autosave_interval(10000)"
      ]
     },
     "metadata": {},
     "output_type": "display_data"
    },
    {
     "name": "stdout",
     "output_type": "stream",
     "text": [
      "Autosaving every 10 seconds\n"
     ]
    }
   ],
   "source": [
    "%autosave 10"
   ]
  },
  {
   "cell_type": "code",
   "execution_count": 2,
   "id": "ec3e720a-e18d-40aa-8573-9c522985726f",
   "metadata": {},
   "outputs": [],
   "source": [
    "# Deleting elements from the and array\n",
    "import numpy as np"
   ]
  },
  {
   "cell_type": "code",
   "execution_count": 3,
   "id": "d1895867-d909-4a76-94d8-d235844719e2",
   "metadata": {},
   "outputs": [
    {
     "name": "stdout",
     "output_type": "stream",
     "text": [
      "Original array: [10 20 30 40 50]\n"
     ]
    }
   ],
   "source": [
    "arr = np.array([10, 20, 30, 40, 50])\n",
    "print(\"Original array:\", arr)"
   ]
  },
  {
   "cell_type": "code",
   "execution_count": 5,
   "id": "4d64fe53-ae40-4ab8-ae9b-110d1889da69",
   "metadata": {},
   "outputs": [
    {
     "name": "stdout",
     "output_type": "stream",
     "text": [
      "After removing index 2: [10 20 40 50]\n"
     ]
    }
   ],
   "source": [
    "# Remove element at index 2 (value 30)\n",
    "arr_new = np.delete(arr, 2)\n",
    "print(\"After removing index 2:\", arr_new)"
   ]
  },
  {
   "cell_type": "code",
   "execution_count": 7,
   "id": "b01f4fce-c16c-4682-92fd-d9ae2b5c61d6",
   "metadata": {},
   "outputs": [
    {
     "name": "stdout",
     "output_type": "stream",
     "text": [
      "After removing oindices 1 and 3 : [10 30 50]\n"
     ]
    }
   ],
   "source": [
    "# Remove multiple indices\n",
    "arr_new = np.delete(arr, [1, 3]) \n",
    "# remove elements at index 1 and 3\n",
    "print(\"After removing oindices 1 and 3 :\" ,arr_new)"
   ]
  },
  {
   "cell_type": "code",
   "execution_count": 8,
   "id": "371e6c29-2b6f-4c04-81c5-d366bf248cb7",
   "metadata": {},
   "outputs": [
    {
     "name": "stdout",
     "output_type": "stream",
     "text": [
      "Element <= 30: [10 20 30]\n"
     ]
    }
   ],
   "source": [
    "# Remove all elements greater than 30\n",
    "arr_new = arr[arr <= 30]\n",
    "print(\"Element <= 30:\", arr_new)"
   ]
  },
  {
   "cell_type": "code",
   "execution_count": null,
   "id": "d88147a8-c560-4424-8176-2a45c464cea1",
   "metadata": {},
   "outputs": [],
   "source": []
  }
 ],
 "metadata": {
  "kernelspec": {
   "display_name": "Python 3 (ipykernel)",
   "language": "python",
   "name": "python3"
  },
  "language_info": {
   "codemirror_mode": {
    "name": "ipython",
    "version": 3
   },
   "file_extension": ".py",
   "mimetype": "text/x-python",
   "name": "python",
   "nbconvert_exporter": "python",
   "pygments_lexer": "ipython3",
   "version": "3.12.7"
  }
 },
 "nbformat": 4,
 "nbformat_minor": 5
}
